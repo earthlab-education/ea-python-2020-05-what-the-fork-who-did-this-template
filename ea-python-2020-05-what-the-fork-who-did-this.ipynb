{
 "cells": [
  {
   "cell_type": "markdown",
   "metadata": {},
   "source": [
    "<img style=\"float: left;\" src=\"earth-lab-logo-rgb.png\" width=\"150\" height=\"150\" />\n",
    "\n",
    "# Earth Analytics Python Course: Spring 2020"
   ]
  },
  {
   "cell_type": "markdown",
   "metadata": {},
   "source": [
    "Before submitting this assignment, be sure to restart the kernel and run all cells. To do this, pull down the Kernel drop down at the top of this notebook. Then select **restart and run all**.\n",
    "\n",
    "Make sure you fill in any place that says `YOUR CODE HERE` or \"YOUR ANSWER HERE\", as well as your name and collaborators below."
   ]
  },
  {
   "cell_type": "code",
   "execution_count": null,
   "metadata": {},
   "outputs": [],
   "source": [
    "NAME = \"\"\n",
    "COLLABORATORS = \"\""
   ]
  },
  {
   "cell_type": "markdown",
   "metadata": {},
   "source": [
    "![Colored Bar](colored-bar.png)"
   ]
  },
  {
   "cell_type": "markdown",
   "metadata": {
    "deletable": false,
    "editable": false,
    "nbgrader": {
     "cell_type": "markdown",
     "checksum": "ee9121b8bd6f12145726b70c9e542640",
     "grade": false,
     "grade_id": "cell-47760d5e1e423131",
     "locked": true,
     "schema_version": 3,
     "solution": false,
     "task": false
    }
   },
   "source": [
    "# What the fork?!  Who did this?!\n",
    "\n",
    "You have started working on a project that was previously managed by a colleague who has left your organization.\n",
    "\n",
    "However, after trying to run the notebook, you see that the code in this notebook has some issues with: \n",
    "* reproducibility, \n",
    "* file names, \n",
    "* and code that does not execute successfully. \n",
    "\n",
    "There are also some PEP 8 issues that make it hard to follow the workflow.\n",
    "\n",
    "Your task is to:\n",
    "\n",
    "1. Make this notebook run without errors.\n",
    "2. Make sure all of the code follows PEP 8 Standards.\n",
    "3. Make the code more readable by using white space, and removing unused imports and code.\n",
    "4. Ensure reproducibility by checking that ALL imports are at the top and that the data are downloaded in the notebook.\n",
    "\n",
    "Throughout the notebook, you will be asked to describe how you modified / improved the code. You will provide your explanation using Markdown cells. \n",
    "\n",
    "HINT: you may consider cleaning up the notebook first and then going back and answering the questions. Or consider taking notes about what you changed in each cell and then answering the questions. This is just an optional approach. \n",
    "\n",
    "HINT 2: You can use the autopep8 tool in Jupyter to automagically fix spacing issues in your code. **Shift +** hitting the tool icon in jupyter will run it on every cell!! Use this to make your life easier! \n",
    "\n",
    "(However, remember that that autopep8 does not fix all PEP 8 issues!)\n",
    "### IMPORTANT\n",
    "In the cells below you can delete all instances of: \n",
    "```\n",
    "# YOUR CODE HERE\n",
    "raise NotImplementedError()\n",
    "```\n",
    "\n",
    "In this notebook you will be fixing code - NOT WRITING NEW CODE"
   ]
  },
  {
   "cell_type": "markdown",
   "metadata": {
    "deletable": false,
    "editable": false,
    "nbgrader": {
     "cell_type": "markdown",
     "checksum": "770e92ae1d7e02885bbbbbdbcea018ee",
     "grade": false,
     "grade_id": "cell-fdb313a690f2d6df",
     "locked": true,
     "schema_version": 3,
     "solution": false,
     "task": false
    }
   },
   "source": [
    "![Colored Bar](colored-bar.png)"
   ]
  },
  {
   "cell_type": "code",
   "execution_count": null,
   "metadata": {
    "deletable": false,
    "editable": false,
    "nbgrader": {
     "cell_type": "code",
     "checksum": "d1973835e24e7d532bf1b496917ef671",
     "grade": false,
     "grade_id": "cell-59e0e907199a678c",
     "locked": true,
     "schema_version": 3,
     "solution": false,
     "task": false
    }
   },
   "outputs": [],
   "source": [
    "# Autograding imports - do not modify this cell\n",
    "import matplotcheck.notebook as nb\n",
    "import matplotcheck.autograde as ag\n",
    "import matplotcheck.base as pt"
   ]
  },
  {
   "cell_type": "code",
   "execution_count": null,
   "metadata": {
    "deletable": false,
    "nbgrader": {
     "cell_type": "code",
     "checksum": "fb0659d33588bebcad0934e598890112",
     "grade": true,
     "grade_id": "cell-5b2cebd23d045fc1",
     "locked": false,
     "points": 4,
     "schema_version": 3,
     "solution": true,
     "task": false
    }
   },
   "outputs": [],
   "source": [
    "#import required libraries here\n",
    "import numpy as np\n",
    "import rasterio as rio\n",
    "import warnings\n",
    "import matplotlib.pyplot as plt\n",
    "import rasterio\n",
    "from rasterio.plot import plotting_extent\n",
    "import rasterstats as rs\n",
    "import earthpy as et\n",
    "import tweepy as tw\n",
    "import python\n",
    "import seaborn as sns\n",
    "import itertools\n",
    "import collections\n",
    "import tweepy as tw\n",
    "import nltk\n",
    "from nltk import bigrams\n",
    "from nltk.corpus import stopwords\n",
    "import seaborn as sns\n",
    "from rasterio.mask import mask\n",
    "from shapely.geometry import mapping\n",
    "from matplotlib.colors import ListedColormap, BoundaryNorm\n",
    "from matplotlib.patches import Patch\n",
    "\n",
    "os.chdir(os.path.join(et.io.HOME, 'earth-analytics')\n",
    "warnings.simplefilter('ignore')\n",
    "\n",
    "# YOUR CODE HERE\n",
    "raise NotImplementedError()"
   ]
  },
  {
   "cell_type": "markdown",
   "metadata": {
    "deletable": false,
    "editable": false,
    "nbgrader": {
     "cell_type": "markdown",
     "checksum": "a71cb98943a13588dbbc0995d4f80b00",
     "grade": false,
     "grade_id": "cell-d0e42eb937336892",
     "locked": true,
     "schema_version": 3,
     "solution": false,
     "task": false
    }
   },
   "source": [
    "## Question 1 (8 points) \n",
    "\n",
    "1. What modifications did you make to the cell above to ensure it follows PEP 8 standards? \n",
    "2. What modifications did you make to the cell above to ensure it follows reproducibility conventions?\n",
    "\n",
    "Add your answer to the Markdown cell below."
   ]
  },
  {
   "cell_type": "markdown",
   "metadata": {
    "deletable": false,
    "nbgrader": {
     "cell_type": "markdown",
     "checksum": "a5eda9f062e43ac203056ccca34ac5cd",
     "grade": true,
     "grade_id": "cell-98bb31fa67ab8ba4",
     "locked": false,
     "points": 8,
     "schema_version": 3,
     "solution": true,
     "task": false
    }
   },
   "source": [
    "YOUR ANSWER HERE"
   ]
  },
  {
   "cell_type": "code",
   "execution_count": null,
   "metadata": {
    "deletable": false,
    "nbgrader": {
     "cell_type": "code",
     "checksum": "6d6070733a90bf6c942f792d62d2e8a0",
     "grade": false,
     "grade_id": "cell-4a732a6b439383f5",
     "locked": false,
     "schema_version": 3,
     "solution": true,
     "task": false
    }
   },
   "outputs": [],
   "source": [
    "#Import SOAP plot locations\n",
    "\n",
    "soap_data_path = os.path.join(\"spatial-vector-lidar\", \"california\", \"neon-soap-site\")\n",
    "\n",
    "# Open up your plot locations from shapefile that is in the vector_data directory under neon_soap_site\n",
    "soap_centroids_path = os.path.join(soap_data_path, \"Vector_Data\", \"SOAP_plot_centroids.shp\")\n",
    "\n",
    "soap_plot_points = gpd.read_file(soap_centroids_path)\n",
    "\n",
    "\n",
    "# YOUR CODE HERE\n",
    "raise NotImplementedError()"
   ]
  },
  {
   "cell_type": "markdown",
   "metadata": {
    "deletable": false,
    "editable": false,
    "nbgrader": {
     "cell_type": "markdown",
     "checksum": "da304d2fa80a14ed5eb72a15a0bc0ec8",
     "grade": false,
     "grade_id": "cell-2e6d1318262fcdd2",
     "locked": true,
     "schema_version": 3,
     "solution": false,
     "task": false
    }
   },
   "source": [
    "## Question 2 (10 points)\n",
    "\n",
    "1. Why did the cell above fail to run?\n",
    "2. Were there any PEP 8 or reproducibility issues in this cell? Explain your answer.\n",
    "\n",
    "Add your answer to the Markdown cell below."
   ]
  },
  {
   "cell_type": "markdown",
   "metadata": {
    "deletable": false,
    "nbgrader": {
     "cell_type": "markdown",
     "checksum": "c5ebda867abb688240a1adf99fd2817c",
     "grade": true,
     "grade_id": "cell-a2665d1cb212d055",
     "locked": false,
     "points": 10,
     "schema_version": 3,
     "solution": true,
     "task": false
    }
   },
   "source": [
    "YOUR ANSWER HERE"
   ]
  },
  {
   "cell_type": "code",
   "execution_count": null,
   "metadata": {
    "deletable": false,
    "editable": false,
    "nbgrader": {
     "cell_type": "code",
     "checksum": "c7e22057124b797020d85db8736262b6",
     "grade": true,
     "grade_id": "cell-d529bd0a88ef1161",
     "locked": true,
     "points": 6,
     "schema_version": 3,
     "solution": false,
     "task": false
    }
   },
   "outputs": [],
   "source": [
    "# DO NOT MODIFY - AUTOGRADE\n",
    "\n",
    "points = 0\n",
    "try:\n",
    "    isinstance(soap_plot_points, gpd.GeoDataFrame)\n",
    "    print(\"Great! Your diff chm object is the correct type - GeoDataFrame\")\n",
    "    points += 6\n",
    "except AssertionError as message:\n",
    "    print(\"AssertionError:\",\n",
    "          \"Oops, your chm object should be a numpy array.\")\n",
    "points\n"
   ]
  },
  {
   "cell_type": "markdown",
   "metadata": {
    "deletable": false,
    "editable": false,
    "nbgrader": {
     "cell_type": "markdown",
     "checksum": "f84f2cbbaa97ccff632ec17e8a4b4ba4",
     "grade": false,
     "grade_id": "cell-21014f33c658d58b",
     "locked": true,
     "schema_version": 3,
     "solution": false,
     "task": false
    }
   },
   "source": [
    "# Part 2 - Spatial Things\n",
    "\n",
    "Open the SOAP lidar CHM file. Read in the data."
   ]
  },
  {
   "cell_type": "code",
   "execution_count": null,
   "metadata": {
    "deletable": false,
    "nbgrader": {
     "cell_type": "code",
     "checksum": "ff16e59d837f07fe830e14f846e5eaf3",
     "grade": false,
     "grade_id": "cell-4cd70f05a185b869",
     "locked": false,
     "schema_version": 3,
     "solution": true,
     "task": false
    }
   },
   "outputs": [],
   "source": [
    "soap_chm_path = \"C:\\\\earth-analytics\\\\data\\\\spatial-vector-lidar\\\\california\\\\neon-soap-site\\\\2013\\\\lidar\\\\SJER_lidarCHM.tif\"\n",
    "\n",
    "with rio.open(soap_chm_path) as soap_lidar_chm_src:\n",
    "    # Create metadata object to view later\n",
    "    soap_lidar_chm_meta = soap_lidar_chm.profile\n",
    "    #plotting extent\n",
    "    soap_plot_extent = plotting_extent(soap_lidar_chm_src)\n",
    "\n",
    "soap_lidar_chm_src.read(1, masked=True)\n",
    "\n",
    "\n",
    "# YOUR CODE HERE\n",
    "raise NotImplementedError()"
   ]
  },
  {
   "cell_type": "markdown",
   "metadata": {
    "deletable": false,
    "editable": false,
    "nbgrader": {
     "cell_type": "markdown",
     "checksum": "494c7d9e1ecc623c46ba4c3ce9d2f9b3",
     "grade": false,
     "grade_id": "cell-821f7746b38ed7d4",
     "locked": true,
     "schema_version": 3,
     "solution": false,
     "task": false
    }
   },
   "source": [
    "## Question 3 (12 points)\n",
    "\n",
    "1. Why is a context manager useful when opening up files?\n",
    "2. How did you change the code above to make it run? (Note: it should read in the lidar canopy height model for the NEON SOAP field site.)\n",
    "\n",
    "Add your answer to the Markdown cell below."
   ]
  },
  {
   "cell_type": "markdown",
   "metadata": {
    "deletable": false,
    "nbgrader": {
     "cell_type": "markdown",
     "checksum": "79306b888f7208d18d2a79ba107757ed",
     "grade": true,
     "grade_id": "cell-2331c8b67cf8ac05",
     "locked": false,
     "points": 12,
     "schema_version": 3,
     "solution": true,
     "task": false
    }
   },
   "source": [
    "YOUR ANSWER HERE"
   ]
  },
  {
   "cell_type": "code",
   "execution_count": null,
   "metadata": {
    "deletable": false,
    "editable": false,
    "nbgrader": {
     "cell_type": "code",
     "checksum": "cd8a66f8c7d9b46de32aa69edd989615",
     "grade": true,
     "grade_id": "cell-26725e7089ac6852",
     "locked": true,
     "points": 6,
     "schema_version": 3,
     "solution": false,
     "task": false
    }
   },
   "outputs": [],
   "source": [
    "# Ignore this cell for autograded tests\n"
   ]
  },
  {
   "cell_type": "markdown",
   "metadata": {
    "deletable": false,
    "editable": false,
    "nbgrader": {
     "cell_type": "markdown",
     "checksum": "4a9897043785fdc65be8761d46e4840d",
     "grade": false,
     "grade_id": "cell-f5e335eae7c13438",
     "locked": true,
     "schema_version": 3,
     "solution": false,
     "task": false
    }
   },
   "source": [
    "## Plot Soaproot Saddle (SOAP) Plot Locations on Top of the SOAP CHM\n",
    "\n",
    "In the cell below, create a plot of the canopy height model for SOAP that you imported above. Overlay the plot locations on top of your plot. \n",
    "\n",
    "HINT: The lesson below has an example of vector points overlayed on top of a raster. You will need to use `plotting_extent()` to create your extent object.\n",
    "\n",
    "https://www.earthdatascience.org/courses/use-data-open-source-python/spatial-data-applications/lidar-remote-sensing-uncertainty/summarize-and-compare-lidar-insitu-tree-height/#create-map-of-plot-locations-sized-by-tree-height"
   ]
  },
  {
   "cell_type": "code",
   "execution_count": null,
   "metadata": {
    "deletable": false,
    "nbgrader": {
     "cell_type": "code",
     "checksum": "d304ba90e47ecbc677816d505abccabf",
     "grade": false,
     "grade_id": "cell-e4e62e37d8d99dd3",
     "locked": false,
     "schema_version": 3,
     "solution": true,
     "task": false
    }
   },
   "outputs": [],
   "source": [
    "#plot SOAP Canopy Height Model with the plot locations overlayed on top \n",
    "import earthpy.plot as ep\n",
    "\n",
    "f, ax = plt.subplots(figsize=(5, 8))\n",
    "\n",
    "ep.plot_bands(soap_lidar_chm, cmap=\"Greys\", ax=ax, title=\"My Plot\")\n",
    "soap_plot_points.plot(color=\"purple\")\n",
    "\n",
    "\n",
    "\n",
    "# YOUR CODE HERE\n",
    "raise NotImplementedError()"
   ]
  },
  {
   "cell_type": "markdown",
   "metadata": {
    "deletable": false,
    "editable": false,
    "nbgrader": {
     "cell_type": "markdown",
     "checksum": "2932c7bdee399ae10ab819b507637790",
     "grade": false,
     "grade_id": "cell-b0f215e73a15a28f",
     "locked": true,
     "schema_version": 3,
     "solution": false,
     "task": false
    }
   },
   "source": [
    "## Question 4 (15 points) \n",
    "\n",
    "1. How did you fix the code above? (10)\n",
    "2. What does the rasterio `plotting_extent()` function do? (5)\n",
    "\n",
    "Add your answer to the Markdown cell below."
   ]
  },
  {
   "cell_type": "markdown",
   "metadata": {
    "deletable": false,
    "nbgrader": {
     "cell_type": "markdown",
     "checksum": "06275a83171b9620bf85129c7ea37294",
     "grade": true,
     "grade_id": "cell-50b687e930f575dd",
     "locked": false,
     "points": 15,
     "schema_version": 3,
     "solution": true,
     "task": false
    }
   },
   "source": [
    "YOUR ANSWER HERE"
   ]
  },
  {
   "cell_type": "code",
   "execution_count": null,
   "metadata": {
    "deletable": false,
    "editable": false,
    "nbgrader": {
     "cell_type": "code",
     "checksum": "a228063823bde4179ab8ae2cf59e5576",
     "grade": true,
     "grade_id": "cell-cb9b9b9d44924ac7",
     "locked": true,
     "points": 5,
     "schema_version": 3,
     "solution": false,
     "task": false
    }
   },
   "outputs": [],
   "source": [
    "# Ignore this cell for autograded tests\n"
   ]
  },
  {
   "cell_type": "markdown",
   "metadata": {
    "deletable": false,
    "editable": false,
    "nbgrader": {
     "cell_type": "markdown",
     "checksum": "33903f981e2ea7fe76f78f078a4e2ffc",
     "grade": false,
     "grade_id": "cell-7d0a097dfd91d729",
     "locked": true,
     "schema_version": 3,
     "solution": false,
     "task": false
    }
   },
   "source": [
    "# Plots of Spatial Data\n",
    "\n",
    "In the cell below, open up the following layers:\n",
    "\n",
    "* `data/spatial-vector-lidar/global/ne_10m_roads/ne_10m_roads.shp`\n",
    "* `data/spatial-vector-lidar/california/CA_Counties/CA_Counties_TIGER2016.shp`\n",
    "\n",
    "Clip the roads layer to the boundary of the Fresno, Madera and Tulare counties. "
   ]
  },
  {
   "cell_type": "code",
   "execution_count": null,
   "metadata": {
    "deletable": false,
    "nbgrader": {
     "cell_type": "code",
     "checksum": "e1864d608395a71c32b57d410a6dd0db",
     "grade": false,
     "grade_id": "cell-73c177283ccdcc30",
     "locked": false,
     "schema_version": 3,
     "solution": true,
     "task": false
    }
   },
   "outputs": [],
   "source": [
    "#calculate length of roads in Fresno, Madera, and Tular Counties\n",
    "import earthpy.clip as cl\n",
    "\n",
    "ne_roads = gpd.read_file('data/spatial-vector-lidar/global/ne_10m_roads/ne_10m_roads.shp')\n",
    "\n",
    "\n",
    "cali_county_boundary = gpd.read_file('data/spatial-vector-lidar/california/CA_Counties/CA_Counties_TIGER2016.shp')\n",
    "\n",
    "\n",
    "three_counties = cali_county_boundary[cali_county_boundary['NAME'].isin([\"Fresno\", \"Madera\", \"Tulare\"])]\n",
    "# Clip the data\n",
    "county_roads = cl.clip_shp(ne_roads, three_counties)\n",
    "\n",
    "\n",
    "# YOUR CODE HERE\n",
    "raise NotImplementedError()\n"
   ]
  },
  {
   "cell_type": "markdown",
   "metadata": {
    "deletable": false,
    "editable": false,
    "nbgrader": {
     "cell_type": "markdown",
     "checksum": "bde1e9a3363d0aeefe60927c4ef2745f",
     "grade": false,
     "grade_id": "cell-d3d52fc979bb3649",
     "locked": true,
     "schema_version": 3,
     "solution": false,
     "task": false
    }
   },
   "source": [
    "## Question 5 (8 points)\n",
    "\n",
    "In the Markdown cell below, answer the following:\n",
    "\n",
    "1. What fixes did you implement to ensure the code above ran? (2)\n",
    "2. Were there any PEP 8 or reproducibility issues in this cell? Explain your answer. (2)\n",
    "2. Why is the CRS of a spatial data object important when processing data? (2)\n",
    "3. Can you perform a **spatial join** or a **clip** on a two datasets that are in different CRS's? Explain your answer. (2)"
   ]
  },
  {
   "cell_type": "markdown",
   "metadata": {
    "deletable": false,
    "nbgrader": {
     "cell_type": "markdown",
     "checksum": "acc1cfb5b5d0ce42cb00cfab6774d66a",
     "grade": true,
     "grade_id": "cell-630970fb3626ea9f",
     "locked": false,
     "points": 8,
     "schema_version": 3,
     "solution": true,
     "task": false
    }
   },
   "source": [
    "YOUR ANSWER HERE"
   ]
  },
  {
   "cell_type": "code",
   "execution_count": null,
   "metadata": {
    "deletable": false,
    "editable": false,
    "nbgrader": {
     "cell_type": "code",
     "checksum": "bf57689e4b0f9cb7a0da47dcca279cfd",
     "grade": true,
     "grade_id": "cell-4b3ef7d356b2457e",
     "locked": true,
     "points": 4,
     "schema_version": 3,
     "solution": false,
     "task": false
    }
   },
   "outputs": [],
   "source": [
    "# Ignore this cell for autograded tests\n",
    "\n",
    "points = 0\n",
    "try:\n",
    "    isinstance(county_roads, gpd.GeoDataFrame)\n",
    "    print(\"Great! Your diff chm object is the correct type - GeoDataFrame\")\n",
    "    points += 4\n",
    "except AssertionError as message:\n",
    "    print(\"AssertionError:\",\n",
    "          \"Oops, your clipped layer should be a GeoDataFrame.\")\n",
    "points\n"
   ]
  },
  {
   "cell_type": "markdown",
   "metadata": {
    "deletable": false,
    "editable": false,
    "nbgrader": {
     "cell_type": "markdown",
     "checksum": "618609a1256c3f9728a4a48e876d5235",
     "grade": false,
     "grade_id": "cell-fe490216bd3a80ca",
     "locked": true,
     "schema_version": 3,
     "solution": false,
     "task": false
    }
   },
   "source": [
    "# Munging Insitu Data\n",
    "\n",
    "In the cell below, summarize the insitu data for the NEON SOAP field site to calculate max and mean. Rename those summary columns to: `insitu_max` and `insitu_mean`."
   ]
  },
  {
   "cell_type": "code",
   "execution_count": null,
   "metadata": {
    "deletable": false,
    "nbgrader": {
     "cell_type": "code",
     "checksum": "7bd5083581b553a1b340a9b94f193353",
     "grade": false,
     "grade_id": "cell-c23f56f28c7ba336",
     "locked": false,
     "schema_version": 3,
     "solution": true,
     "task": false
    }
   },
   "outputs": [],
   "source": [
    "# Import SOAP insitu data, calculate mean and max from insitu data, rename the calculated columns: insitu_max, insitu_mean\n",
    "\n",
    "soap_base_path = os.path.join(\"data\", \"spatial-vector-lidar\", \"california\", \"neon-soap-site\")\n",
    "soap_insitu_path = os.path.join(soap_base_path, \"2013\", \"insitu\", \"veg-structure\", \"D17_2013_SOAP_vegStr.csv\")\n",
    "soap_insitu = pd.read_csv(soap_insitu_path)\n",
    "soap_insitu_mean_max = soap_insitu[[\"siteid\", \"plotid\", \"stemheight\"]]\n",
    "soap_insitu_mean_max = soap_insitu_mean_max.groupby('plotid', as_index=False).stemheight.agg(['max', 'mean']).reset_index()\n",
    "soap_insitu_mean_max = soap_insitu_mean_max.rename(columns={'in_max': 'insitu_max', 'in_mean': 'insitu_mean'})\n",
    "\n",
    "\n",
    "# YOUR CODE HERE\n",
    "raise NotImplementedError()\n"
   ]
  },
  {
   "cell_type": "markdown",
   "metadata": {
    "deletable": false,
    "editable": false,
    "nbgrader": {
     "cell_type": "markdown",
     "checksum": "97f3c632aabe7aafff0dd86257b98d4e",
     "grade": false,
     "grade_id": "cell-8b17df22de3c852d",
     "locked": true,
     "schema_version": 3,
     "solution": false,
     "task": false
    }
   },
   "source": [
    "## Question 6 (4 points)\n",
    "\n",
    "In the Markdown cell below, answer the following:\n",
    "1. What fixes did you implement to ensure the cell above ran?\n",
    "2. Were there any PEP 8 or reproducibility issues in this cell? Explain your answer."
   ]
  },
  {
   "cell_type": "markdown",
   "metadata": {
    "deletable": false,
    "nbgrader": {
     "cell_type": "markdown",
     "checksum": "cc6e07dd82ff73c754be8c7ca8036fa0",
     "grade": true,
     "grade_id": "cell-dfc966b100f5f34e",
     "locked": false,
     "points": 4,
     "schema_version": 3,
     "solution": true,
     "task": false
    }
   },
   "source": [
    "YOUR ANSWER HERE"
   ]
  },
  {
   "cell_type": "code",
   "execution_count": null,
   "metadata": {
    "deletable": false,
    "editable": false,
    "nbgrader": {
     "cell_type": "code",
     "checksum": "8f524a4f276089e1f72c32f315809187",
     "grade": true,
     "grade_id": "cell-9600c58a3656a1e8",
     "locked": true,
     "points": 4,
     "schema_version": 3,
     "solution": false,
     "task": false
    }
   },
   "outputs": [],
   "source": [
    "# Ignore this cell for autograded tests\n",
    "\n",
    "points = 0\n",
    "if set(['insitu_max','insitu_mean']).issubset(soap_insitu_mean_max.columns):\n",
    "   #df['sum'] = df['A'] + df['C'] \n",
    "    print(\"Great! Your Data Frame has the correct columns: 'insitu_max' & 'insitu_mean' \")\n",
    "    points += 4\n",
    "else:\n",
    "    print(\"Oops, looks like your column names are not correct.\")\n",
    "points"
   ]
  },
  {
   "cell_type": "markdown",
   "metadata": {
    "deletable": false,
    "editable": false,
    "nbgrader": {
     "cell_type": "markdown",
     "checksum": "a250fd5024bf15ff767bbffcf3c108fd",
     "grade": false,
     "grade_id": "cell-99793b07d790913f",
     "locked": true,
     "schema_version": 3,
     "solution": false,
     "task": false
    }
   },
   "source": [
    "![Colored Bar](colored-bar.png)"
   ]
  },
  {
   "cell_type": "markdown",
   "metadata": {
    "deletable": false,
    "editable": false,
    "nbgrader": {
     "cell_type": "markdown",
     "checksum": "eeca02ba6d91752da32bff4212831eb2",
     "grade": false,
     "grade_id": "cell-913d617e48a9c932",
     "locked": true,
     "schema_version": 3,
     "solution": false,
     "task": false
    }
   },
   "source": [
    "## Question 7 (4 points)\n",
    "\n",
    "In the Markdown cell below, answer the following questions.\n",
    "\n",
    "1. What `type` of Python object is `soap_lidar_chm`? (2)\n",
    "    * Your answer should look like this but be the correct type for the object above: **string**.\n",
    "2. Consider the original lidar data that you imported above to create the `soap_lidar_chm` object in Python. What type of file and it's associated extensions(s) are used to import the lidar data? \n",
    "    * **example answer: `text file`, `file.txt`** (2)\n",
    "\n",
    "NOTE: The SOAP object is not a text file! I just gave you examples so you could see what I was looking for here! "
   ]
  },
  {
   "cell_type": "markdown",
   "metadata": {
    "deletable": false,
    "nbgrader": {
     "cell_type": "markdown",
     "checksum": "b4b4c6acef552cb97edbd8eca6cf5bb9",
     "grade": true,
     "grade_id": "cell-7dcc6063cb1b105f",
     "locked": false,
     "points": 4,
     "schema_version": 3,
     "solution": true,
     "task": false
    }
   },
   "source": [
    "YOUR ANSWER HERE"
   ]
  },
  {
   "cell_type": "markdown",
   "metadata": {
    "deletable": false,
    "editable": false,
    "nbgrader": {
     "cell_type": "markdown",
     "checksum": "1c719a9ea264cb627605265b59632eba",
     "grade": false,
     "grade_id": "cell-52bf7736551d488b",
     "locked": true,
     "schema_version": 3,
     "solution": false,
     "task": false
    }
   },
   "source": [
    "![Colored Bar](colored-bar.png)"
   ]
  },
  {
   "cell_type": "markdown",
   "metadata": {
    "deletable": false,
    "editable": false,
    "nbgrader": {
     "cell_type": "markdown",
     "checksum": "0eeaaa0b74574ee06536fd1a4f1954a9",
     "grade": false,
     "grade_id": "cell-5d615edb6134feba",
     "locked": true,
     "schema_version": 3,
     "solution": false,
     "task": false
    }
   },
   "source": [
    "## Question 8 (6 points)\n",
    "\n",
    "1. What `type` of Python object is `county_roads`? (2)\n",
    "2. Consider the original roads layer that you imported above to create the `county_roads` object in Python. What type of file and it's associated extensions(s) are used to import the county_roads layer? (2)\n",
    "3. What are the 3 file extensions required for a shapefile to be opened in Python? (2)"
   ]
  },
  {
   "cell_type": "markdown",
   "metadata": {
    "deletable": false,
    "nbgrader": {
     "cell_type": "markdown",
     "checksum": "fa61ce763dc8f2c687fec5429fc32f34",
     "grade": true,
     "grade_id": "cell-4a060beb6fe0492a",
     "locked": false,
     "points": 6,
     "schema_version": 3,
     "solution": true,
     "task": false
    }
   },
   "source": [
    "YOUR ANSWER HERE"
   ]
  },
  {
   "cell_type": "markdown",
   "metadata": {
    "deletable": false,
    "editable": false,
    "nbgrader": {
     "cell_type": "markdown",
     "checksum": "429f93d3d4675bc159691ff3797b4136",
     "grade": false,
     "grade_id": "cell-642ed53c6c11cd9b",
     "locked": true,
     "schema_version": 3,
     "solution": false,
     "task": false
    }
   },
   "source": [
    "![Colored Bar](colored-bar.png)"
   ]
  },
  {
   "cell_type": "markdown",
   "metadata": {
    "deletable": false,
    "editable": false,
    "nbgrader": {
     "cell_type": "markdown",
     "checksum": "2fc69a6b78ff0464235847b48ea80b98",
     "grade": false,
     "grade_id": "cell-85d370903b49f94c",
     "locked": true,
     "schema_version": 3,
     "solution": false,
     "task": false
    }
   },
   "source": [
    "## Question 9 (4 points)\n",
    "\n",
    "1. What `type` of Python object is `soap_insitu_mean_max`? (2)\n",
    "2. Consider the original insitu data that you imported above to create the `soap_insitu_mean_max` object in Python. What type of file and it's associated extensions(s) are used to import the insitu data. (2)"
   ]
  },
  {
   "cell_type": "markdown",
   "metadata": {
    "deletable": false,
    "nbgrader": {
     "cell_type": "markdown",
     "checksum": "ed8d7cd044dfefae3843aa073cea3130",
     "grade": true,
     "grade_id": "cell-5c1090021708ea7d",
     "locked": false,
     "points": 4,
     "schema_version": 3,
     "solution": true,
     "task": false
    }
   },
   "source": [
    "YOUR ANSWER HERE"
   ]
  },
  {
   "cell_type": "markdown",
   "metadata": {
    "deletable": false,
    "editable": false,
    "nbgrader": {
     "cell_type": "markdown",
     "checksum": "b3f2f4d20d8464443ed1230c27d94b2d",
     "grade": false,
     "grade_id": "cell-e6b2ae1afbb096a5",
     "locked": true,
     "schema_version": 3,
     "solution": false,
     "task": false
    }
   },
   "source": [
    "![Colored Bar](colored-bar.png)"
   ]
  }
 ],
 "metadata": {
  "kernelspec": {
   "display_name": "Python 3",
   "language": "python",
   "name": "python3"
  },
  "language_info": {
   "codemirror_mode": {
    "name": "ipython",
    "version": 3
   },
   "file_extension": ".py",
   "mimetype": "text/x-python",
   "name": "python",
   "nbconvert_exporter": "python",
   "pygments_lexer": "ipython3",
   "version": "3.7.6"
  },
  "toc": {
   "base_numbering": 1,
   "nav_menu": {},
   "number_sections": true,
   "sideBar": true,
   "skip_h1_title": false,
   "title_cell": "Table of Contents",
   "title_sidebar": "Contents",
   "toc_cell": false,
   "toc_position": {},
   "toc_section_display": true,
   "toc_window_display": true
  },
  "varInspector": {
   "cols": {
    "lenName": 16,
    "lenType": 16,
    "lenVar": 40
   },
   "kernels_config": {
    "python": {
     "delete_cmd_postfix": "",
     "delete_cmd_prefix": "del ",
     "library": "var_list.py",
     "varRefreshCmd": "print(var_dic_list())"
    },
    "r": {
     "delete_cmd_postfix": ") ",
     "delete_cmd_prefix": "rm(",
     "library": "var_list.r",
     "varRefreshCmd": "cat(var_dic_list()) "
    }
   },
   "types_to_exclude": [
    "module",
    "function",
    "builtin_function_or_method",
    "instance",
    "_Feature"
   ],
   "window_display": false
  }
 },
 "nbformat": 4,
 "nbformat_minor": 2
}
