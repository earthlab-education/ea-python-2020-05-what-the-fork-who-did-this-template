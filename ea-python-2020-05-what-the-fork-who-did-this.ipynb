{
 "cells": [
  {
   "cell_type": "markdown",
   "metadata": {},
   "source": [
    "<img style=\"float: left;\" src=\"earth-lab-logo-rgb.png\" width=\"150\" height=\"150\" />\n",
    "\n",
    "# Earth Analytics Python Course: Spring 2020"
   ]
  },
  {
   "cell_type": "markdown",
   "metadata": {},
   "source": [
    "Before submitting this assignment, be sure to restart the kernel and run all cells. To do this, pull down the Kernel drop down at the top of this notebook. Then select **restart and run all**.\n",
    "\n",
    "Make sure you fill in any place that says `YOUR CODE HERE` or \"YOUR ANSWER HERE\", as well as your name and collaborators below."
   ]
  },
  {
   "cell_type": "code",
   "execution_count": null,
   "metadata": {},
   "outputs": [],
   "source": [
    "NAME = \"\"\n",
    "COLLABORATORS = \"\""
   ]
  },
  {
   "cell_type": "markdown",
   "metadata": {},
   "source": [
    "![Colored Bar](colored-bar.png)"
   ]
  },
  {
   "cell_type": "markdown",
   "metadata": {
    "deletable": false,
    "editable": false,
    "nbgrader": {
     "cell_type": "markdown",
     "checksum": "0a75d8426fb160a0ba07a3d96b4d82d7",
     "grade": false,
     "grade_id": "cell-47760d5e1e423131",
     "locked": true,
     "schema_version": 3,
     "solution": false,
     "task": false
    }
   },
   "source": [
    "# What the fork?!  Who did this?!\n",
    "\n",
    "You have started working on a project that was previously managed by a colleague who has left your organization.\n",
    "\n",
    "However, after trying to run the notebook, you see that the code in this notebook has some issues with: \n",
    "* reproducbility, \n",
    "* file names, \n",
    "* and code that does not execute successfully. \n",
    "\n",
    "There are also some PEP 8 issues that make it hard to follow the workflow.\n",
    "\n",
    "Your task is to:\n",
    "\n",
    "1. Make this notebook run without errors\n",
    "2. Make sure all of the code follows PEP 8 Standards\n",
    "3. Make the code more readable. \n",
    "\n",
    "Throughout the notebook you will be asked to describe how you modified / improved the code. You will provide your explanation using markdown cells. \n",
    "\n",
    "HINT: you may consider cleaning up the notebook first and then going back and answering the questions. Or consider taking notes about what you changed in each cell and then answering the questions. This is just an optional approach. \n",
    "\n",
    "HINT 2: You can use the autopep8 tool in Jupyter to automagically fix spacing issues in your code. **Shift +** hitting the tool icon in jupyter will run it on every cell!! Use this to make your life easier!"
   ]
  },
  {
   "cell_type": "markdown",
   "metadata": {
    "deletable": false,
    "editable": false,
    "nbgrader": {
     "cell_type": "markdown",
     "checksum": "770e92ae1d7e02885bbbbbdbcea018ee",
     "grade": false,
     "grade_id": "cell-fdb313a690f2d6df",
     "locked": true,
     "schema_version": 3,
     "solution": false,
     "task": false
    }
   },
   "source": [
    "![Colored Bar](colored-bar.png)"
   ]
  },
  {
   "cell_type": "code",
   "execution_count": null,
   "metadata": {
    "deletable": false,
    "editable": false,
    "nbgrader": {
     "cell_type": "code",
     "checksum": "d1973835e24e7d532bf1b496917ef671",
     "grade": false,
     "grade_id": "cell-59e0e907199a678c",
     "locked": true,
     "schema_version": 3,
     "solution": false,
     "task": false
    }
   },
   "outputs": [],
   "source": [
    "# Autograding imports - do not modify this cell\n",
    "import matplotcheck.notebook as nb\n",
    "import matplotcheck.autograde as ag\n",
    "import matplotcheck.base as pt"
   ]
  },
  {
   "cell_type": "code",
   "execution_count": null,
   "metadata": {
    "deletable": false,
    "nbgrader": {
     "cell_type": "code",
     "checksum": "21c496f8fcfc763a7c6e96709b29e138",
     "grade": false,
     "grade_id": "cell-5b2cebd23d045fc1",
     "locked": false,
     "schema_version": 3,
     "solution": true,
     "task": false
    }
   },
   "outputs": [],
   "source": [
    "#import required libraries here\n",
    "import numpy as np\n",
    "import rasterio as rio\n",
    "import warnings\n",
    "import matplotlib.pyplot as plt\n",
    "import pandas as pd\n",
    "import rasterio as rio\n",
    "from rasterio.plot import plotting_extent\n",
    "import rasterstats as rs\n",
    "import earthpy as et\n",
    "import os\n",
    "import tweepy as tw\n",
    "# TO DO: UNCOMMENT BELOW::: \n",
    "#import python\n",
    "import seaborn as sns\n",
    "import itertools\n",
    "import collections\n",
    "\n",
    "import tweepy as tw\n",
    "import nltk\n",
    "from nltk import bigrams\n",
    "from nltk.corpus import stopwords \n",
    "\n",
    "\n",
    "# Get data from EarthPy\n",
    "data = et.data.get_data('spatial-vector-lidar')\n",
    "os.chdir(os.path.join(et.io.HOME, 'earth-analytics'))\n",
    "warnings.simplefilter('ignore')\n",
    "\n",
    "# YOUR CODE HERE\n",
    "raise NotImplementedError()"
   ]
  },
  {
   "cell_type": "markdown",
   "metadata": {
    "deletable": false,
    "editable": false,
    "nbgrader": {
     "cell_type": "markdown",
     "checksum": "5415b61a0a0e1b63677668bf788a1de9",
     "grade": false,
     "grade_id": "cell-d0e42eb937336892",
     "locked": true,
     "schema_version": 3,
     "solution": false,
     "task": false
    }
   },
   "source": [
    "## Questions: \n",
    "\n",
    "1. What modifications did you make to the cell above to ensure if followed pep8 standards?\n",
    "2. What modifications did you make to the cell above to ensure if followed reproducibility conventions? \n"
   ]
  },
  {
   "cell_type": "markdown",
   "metadata": {
    "deletable": false,
    "nbgrader": {
     "cell_type": "markdown",
     "checksum": "0a2b426535f941ed1d9e8c7ca08e6b00",
     "grade": true,
     "grade_id": "cell-98bb31fa67ab8ba4",
     "locked": false,
     "points": 12,
     "schema_version": 3,
     "solution": true,
     "task": false
    }
   },
   "source": [
    "YOUR ANSWER HERE"
   ]
  },
  {
   "cell_type": "code",
   "execution_count": null,
   "metadata": {
    "deletable": false,
    "nbgrader": {
     "cell_type": "code",
     "checksum": "430408a58e5e4d3fcba2503fcaabcf59",
     "grade": false,
     "grade_id": "cell-4a732a6b439383f5",
     "locked": false,
     "schema_version": 3,
     "solution": true,
     "task": false
    }
   },
   "outputs": [],
   "source": [
    "#Import SOAP plot locations\n",
    "\n",
    "soap_data_path = os.path.join(\"data\", \"spatial-vector-lidar\", \"california\", \"neon-soap-site\")\n",
    "\n",
    "# Open up your plot locations from shapefile that is in the vector_data directory under neon_soap_site\n",
    "soap_centroids_path = os.path.join(soap_data_path, \"Vector_Data\", \"SOAP_plot_centroids.shp\")\n",
    "\n",
    "# TODO in final release notebook: uncomment this line  \n",
    "#soap_plot_points = gpd.read_file(soap_centroids_path)\n",
    "\n",
    "\n",
    "# YOUR CODE HERE\n",
    "raise NotImplementedError()"
   ]
  },
  {
   "cell_type": "markdown",
   "metadata": {
    "deletable": false,
    "editable": false,
    "nbgrader": {
     "cell_type": "markdown",
     "checksum": "88a4be30b55ed1e63c2e8d808cfad31b",
     "grade": false,
     "grade_id": "cell-2e6d1318262fcdd2",
     "locked": true,
     "schema_version": 3,
     "solution": false,
     "task": false
    }
   },
   "source": [
    "## Question 2: \n",
    "\n",
    "1. Why did the cell above fail to run? (4)\n",
    "2. What PEP8 format issues did you fix in the cell? (2)\n",
    "\n",
    "\n",
    "Add your answer to the markdown cell below."
   ]
  },
  {
   "cell_type": "markdown",
   "metadata": {
    "deletable": false,
    "nbgrader": {
     "cell_type": "markdown",
     "checksum": "c5ebda867abb688240a1adf99fd2817c",
     "grade": true,
     "grade_id": "cell-a2665d1cb212d055",
     "locked": false,
     "points": 10,
     "schema_version": 3,
     "solution": true,
     "task": false
    }
   },
   "source": [
    "YOUR ANSWER HERE"
   ]
  },
  {
   "cell_type": "code",
   "execution_count": null,
   "metadata": {
    "deletable": false,
    "editable": false,
    "nbgrader": {
     "cell_type": "code",
     "checksum": "c7e22057124b797020d85db8736262b6",
     "grade": true,
     "grade_id": "cell-d529bd0a88ef1161",
     "locked": true,
     "points": 6,
     "schema_version": 3,
     "solution": false,
     "task": false
    }
   },
   "outputs": [],
   "source": [
    "# DO NOT MODIFY - AUTOGRADE\n",
    "\n",
    "points = 0\n",
    "try:\n",
    "    isinstance(soap_plot_points, gpd.GeoDataFrame)\n",
    "    print(\"Great! Your diff chm object is the correct type - GeoDataFrame\")\n",
    "    points += 6\n",
    "except AssertionError as message:\n",
    "    print(\"AssertionError:\",\n",
    "          \"Oops, your chm object should be a numpy array.\")\n",
    "points\n"
   ]
  },
  {
   "cell_type": "markdown",
   "metadata": {},
   "source": [
    "# Part 2 - Spatial Things\n",
    "\n",
    "Open the SOAP lidar CHM file. Read in the data."
   ]
  },
  {
   "cell_type": "code",
   "execution_count": null,
   "metadata": {
    "deletable": false,
    "nbgrader": {
     "cell_type": "code",
     "checksum": "6ad1044b2c2fdfbbe6f38345f7f9bfef",
     "grade": false,
     "grade_id": "cell-4cd70f05a185b869",
     "locked": false,
     "schema_version": 3,
     "solution": true,
     "task": false
    }
   },
   "outputs": [],
   "source": [
    "soap_chm_path = \"C:\\\\earth-analytics\\\\data\\\\spatial-vector-lidar\\\\california\\\\neon-soap-site\\\\2013\\\\lidar\\\\SJER_lidarCHM.tif\"\n",
    "\n",
    "# TODO in final release notebook: uncomment these lines\n",
    "# with rio.open(soap_chm_path) as soap_lidar_chm_src:\n",
    "\n",
    "#     # Create metadata object to view later\n",
    "#     soap_lidar_chm_meta = soap_lidar_chm.profile\n",
    "#     soap_plot_extent = plotting_extent(soap_lidar_chm_src)\n",
    "\n",
    "# TODO in final release notebook: uncomment this line  \n",
    "#soap_lidar_chm_src.read(1, masked=True)\n",
    "\n",
    "\n",
    "# YOUR CODE HERE\n",
    "raise NotImplementedError()"
   ]
  },
  {
   "cell_type": "markdown",
   "metadata": {
    "deletable": false,
    "editable": false,
    "nbgrader": {
     "cell_type": "markdown",
     "checksum": "af0b7ad5dbad5e3160fc0e920d4bebe6",
     "grade": false,
     "grade_id": "cell-821f7746b38ed7d4",
     "locked": true,
     "schema_version": 3,
     "solution": false,
     "task": false
    }
   },
   "source": [
    "## Question 3: \n",
    "\n",
    "1. Why is a context manager useful when opening up files? (3)\n",
    "2. How did you change the code above to make it run? It should read in the lidar canopy height model for the NEON SOAP field site? (3)"
   ]
  },
  {
   "cell_type": "markdown",
   "metadata": {
    "deletable": false,
    "nbgrader": {
     "cell_type": "markdown",
     "checksum": "79306b888f7208d18d2a79ba107757ed",
     "grade": true,
     "grade_id": "cell-2331c8b67cf8ac05",
     "locked": false,
     "points": 12,
     "schema_version": 3,
     "solution": true,
     "task": false
    }
   },
   "source": [
    "YOUR ANSWER HERE"
   ]
  },
  {
   "cell_type": "code",
   "execution_count": null,
   "metadata": {
    "deletable": false,
    "editable": false,
    "nbgrader": {
     "cell_type": "code",
     "checksum": "cd8a66f8c7d9b46de32aa69edd989615",
     "grade": true,
     "grade_id": "cell-26725e7089ac6852",
     "locked": true,
     "points": 6,
     "schema_version": 3,
     "solution": false,
     "task": false
    }
   },
   "outputs": [],
   "source": [
    "# Ignore this cell for autograded tests\n"
   ]
  },
  {
   "cell_type": "markdown",
   "metadata": {
    "deletable": false,
    "editable": false,
    "nbgrader": {
     "cell_type": "markdown",
     "checksum": "756f55b3d9710782ef989734e4e9763d",
     "grade": false,
     "grade_id": "cell-f5e335eae7c13438",
     "locked": true,
     "schema_version": 3,
     "solution": false,
     "task": false
    }
   },
   "source": [
    "## Plot Soaproot Saddle (SOAP) Plot Locations on top of the SOAP CHM\n",
    "\n",
    "In the cell below, create a plot of the canopy height model for SOAP that you imported above. Overlay the plot locations on top of your plot. \n",
    "\n",
    "HINT: The lesson below has an example of vector points overlayed on top of a raster. You will need to use `plotting_extent()` to create your extent object.\n",
    "\n",
    "https://www.earthdatascience.org/courses/use-data-open-source-python/spatial-data-applications/lidar-remote-sensing-uncertainty/summarize-and-compare-lidar-insitu-tree-height/#create-map-of-plot-locations-sized-by-tree-height"
   ]
  },
  {
   "cell_type": "code",
   "execution_count": null,
   "metadata": {
    "deletable": false,
    "nbgrader": {
     "cell_type": "code",
     "checksum": "6858dfd5a000ca6ba8bfc9485fdca20e",
     "grade": false,
     "grade_id": "cell-e4e62e37d8d99dd3",
     "locked": false,
     "schema_version": 3,
     "solution": true,
     "task": false
    }
   },
   "outputs": [],
   "source": [
    "# TASK: Plot SOAP Canopy Height Model with the plot locations overlayed on top \n",
    "# TODO in final release notebook: remove line for plotting extent\n",
    "import earthpy.plot as ep\n",
    "\n",
    "f, ax = plt.subplots(figsize=(5, 8))\n",
    "\n",
    "ep.plot_bands(soap_lidar_chm, \n",
    "          cmap=\"Greys\", ax=ax)\n",
    "soap_plot_points.plot(color=\"purple\")\n",
    "\n",
    "ax.set_title(\"My Plot\")\n",
    "\n",
    "\n",
    "# YOUR CODE HERE\n",
    "raise NotImplementedError()"
   ]
  },
  {
   "cell_type": "markdown",
   "metadata": {
    "deletable": false,
    "editable": false,
    "nbgrader": {
     "cell_type": "markdown",
     "checksum": "73aaf437966fa5ca89c0a4427e15ff5b",
     "grade": false,
     "grade_id": "cell-b0f215e73a15a28f",
     "locked": true,
     "schema_version": 3,
     "solution": false,
     "task": false
    }
   },
   "source": [
    "## Question 4: \n",
    "\n",
    "1. How did you fix the code above? (10)\n",
    "2. What does the `plotting_extent()` function do in rasterio? (5)"
   ]
  },
  {
   "cell_type": "markdown",
   "metadata": {
    "deletable": false,
    "nbgrader": {
     "cell_type": "markdown",
     "checksum": "06275a83171b9620bf85129c7ea37294",
     "grade": true,
     "grade_id": "cell-50b687e930f575dd",
     "locked": false,
     "points": 15,
     "schema_version": 3,
     "solution": true,
     "task": false
    }
   },
   "source": [
    "YOUR ANSWER HERE"
   ]
  },
  {
   "cell_type": "code",
   "execution_count": null,
   "metadata": {
    "deletable": false,
    "editable": false,
    "nbgrader": {
     "cell_type": "code",
     "checksum": "a228063823bde4179ab8ae2cf59e5576",
     "grade": true,
     "grade_id": "cell-cb9b9b9d44924ac7",
     "locked": true,
     "points": 5,
     "schema_version": 3,
     "solution": false,
     "task": false
    }
   },
   "outputs": [],
   "source": [
    "# Ignore this cell for autograded tests\n"
   ]
  },
  {
   "cell_type": "markdown",
   "metadata": {
    "deletable": false,
    "editable": false,
    "nbgrader": {
     "cell_type": "markdown",
     "checksum": "33903f981e2ea7fe76f78f078a4e2ffc",
     "grade": false,
     "grade_id": "cell-7d0a097dfd91d729",
     "locked": true,
     "schema_version": 3,
     "solution": false,
     "task": false
    }
   },
   "source": [
    "# Plots of Spatial Data\n",
    "\n",
    "In the cell below, open up the following layers:\n",
    "\n",
    "* `data/spatial-vector-lidar/global/ne_10m_roads/ne_10m_roads.shp`\n",
    "* `data/spatial-vector-lidar/california/CA_Counties/CA_Counties_TIGER2016.shp`\n",
    "\n",
    "Clip the roads layer to the boundary of the Fresno, Madera and Tulare counties. "
   ]
  },
  {
   "cell_type": "code",
   "execution_count": null,
   "metadata": {
    "deletable": false,
    "nbgrader": {
     "cell_type": "code",
     "checksum": "7cb96e5b18c9ae9d0fd5934d86a94b95",
     "grade": false,
     "grade_id": "cell-73c177283ccdcc30",
     "locked": false,
     "schema_version": 3,
     "solution": true,
     "task": false
    }
   },
   "outputs": [],
   "source": [
    "#calculate length of roads in X, X, and X Counties\n",
    "import earthpy.clip as cl\n",
    "\n",
    "ne_roads = gpd.read_file(\n",
    "    'data/spatial-vector-lidar/global/ne_10m_roads/ne_10m_roads.shp')\n",
    "\n",
    "cali_county_boundary = gpd.read_file(\n",
    "    'data/spatial-vector-lidar/california/CA_Counties/CA_Counties_TIGER2016.shp')\n",
    "\n",
    "three_counties = cali_county_boundary[cali_county_boundary['NAME'].isin(\n",
    "    [\"Fresno\", \"Madera\", \"Tulare\"])]\n",
    "\n",
    "# Clip the data\n",
    "# TODO UNCOMMENT THE LINE BELOW FROM RELEASE\n",
    "#county_roads = cl.clip_shp(ne_roads, three_counties)\n",
    "\n",
    "\n",
    "# YOUR CODE HERE\n",
    "raise NotImplementedError()\n"
   ]
  },
  {
   "cell_type": "markdown",
   "metadata": {
    "deletable": false,
    "editable": false,
    "nbgrader": {
     "cell_type": "markdown",
     "checksum": "cae593fb81334fbfb10aebf26d6c18d5",
     "grade": false,
     "grade_id": "cell-d3d52fc979bb3649",
     "locked": true,
     "schema_version": 3,
     "solution": false,
     "task": false
    }
   },
   "source": [
    "## Question\n",
    "\n",
    "In the markdown cell below answer the following:\n",
    "\n",
    "1. What fixes did you need to implement to ensure the code above ran? (2)\n",
    "2. Where they any other reproducibility issues in this cell? (2)\n",
    "2. Why is the CRS of a spatial data object important when processing data? (2)\n",
    "3. Can you perform a **spatial join** or a **clip** on a two datasets that are in different CRS's? Why or why not? (2)"
   ]
  },
  {
   "cell_type": "markdown",
   "metadata": {
    "deletable": false,
    "nbgrader": {
     "cell_type": "markdown",
     "checksum": "acc1cfb5b5d0ce42cb00cfab6774d66a",
     "grade": true,
     "grade_id": "cell-630970fb3626ea9f",
     "locked": false,
     "points": 8,
     "schema_version": 3,
     "solution": true,
     "task": false
    }
   },
   "source": [
    "YOUR ANSWER HERE"
   ]
  },
  {
   "cell_type": "code",
   "execution_count": null,
   "metadata": {
    "deletable": false,
    "editable": false,
    "nbgrader": {
     "cell_type": "code",
     "checksum": "bf57689e4b0f9cb7a0da47dcca279cfd",
     "grade": true,
     "grade_id": "cell-4b3ef7d356b2457e",
     "locked": true,
     "points": 4,
     "schema_version": 3,
     "solution": false,
     "task": false
    }
   },
   "outputs": [],
   "source": [
    "# Ignore this cell for autograded tests\n",
    "\n",
    "points = 0\n",
    "try:\n",
    "    isinstance(county_roads, gpd.GeoDataFrame)\n",
    "    print(\"Great! Your diff chm object is the correct type - GeoDataFrame\")\n",
    "    points += 4\n",
    "except AssertionError as message:\n",
    "    print(\"AssertionError:\",\n",
    "          \"Oops, your clipped layer should be a GeoDataFrame.\")\n",
    "points\n"
   ]
  },
  {
   "cell_type": "markdown",
   "metadata": {
    "deletable": false,
    "editable": false,
    "nbgrader": {
     "cell_type": "markdown",
     "checksum": "9112a5ec04ab7d97f80231df05bb096e",
     "grade": false,
     "grade_id": "cell-fe490216bd3a80ca",
     "locked": true,
     "schema_version": 3,
     "solution": false,
     "task": false
    }
   },
   "source": [
    "# Munging Insitu Data\n",
    "\n",
    "In the cell below, summarize the insitu data for the NEON SOAP field site. This will create two new columns called mean and max. Rename those summary columns to be:\n",
    "\n",
    "`insitu_max` and `insitu_mean`\n",
    "\n"
   ]
  },
  {
   "cell_type": "code",
   "execution_count": null,
   "metadata": {
    "deletable": false,
    "nbgrader": {
     "cell_type": "code",
     "checksum": "50b6bff132e0111a236b6d9da782bd15",
     "grade": false,
     "grade_id": "cell-c23f56f28c7ba336",
     "locked": false,
     "schema_version": 3,
     "solution": true,
     "task": false
    }
   },
   "outputs": [],
   "source": [
    "# Import SOAP insitu data \n",
    "# SOAP -- Calculate mean and max from insitu data (csv file)\n",
    "# IMPORTANT: rename the calculated columns: insitu_max, insitu_mean\n",
    "\n",
    "soap_base_path = os.path.join(\n",
    "    \"data\", \"spatial-vector-lidar\", \"california\", \"neon-soap-site\")\n",
    "soap_insitu_path = os.path.join(\n",
    "    soap_base_path, \"2013\", \"insitu\", \"veg-structure\", \"D17_2013_SOAP_vegStr.csv\")\n",
    "soap_insitu = pd.read_csv(soap_insitu_path)\n",
    "\n",
    "soap_insitu_mean_max = soap_insitu[[\"siteid\", \"plotid\", \"stemheight\"]]\n",
    "soap_insitu_mean_max = soap_insitu_mean_max.groupby(\n",
    "    'plotid', as_index=False).stemheight.agg(['max', 'mean']).reset_index()\n",
    "\n",
    "soap_insitu_mean_max = soap_insitu_mean_max.rename(\n",
    "    columns={'in_max': 'insitu_max', 'in_mean': 'insitu_mean'})\n",
    "\n",
    "# YOUR CODE HERE\n",
    "raise NotImplementedError()\n"
   ]
  },
  {
   "cell_type": "code",
   "execution_count": null,
   "metadata": {
    "deletable": false,
    "editable": false,
    "nbgrader": {
     "cell_type": "code",
     "checksum": "2bc8435cebcbebf626d90f4519e096be",
     "grade": true,
     "grade_id": "cell-9600c58a3656a1e8",
     "locked": true,
     "points": 4,
     "schema_version": 3,
     "solution": false,
     "task": false
    }
   },
   "outputs": [],
   "source": [
    "# Ignore this cell for autograded tests\n",
    "\n",
    "points = 0\n",
    "if set(['insitu_max','insitu_mean']).issubset(soap_insitu_mean_max.columns):\n",
    "   #df['sum'] = df['A'] + df['C'] \n",
    "    print(\"Great! Your diff chm object is the correct type - GeoDataFrame\")\n",
    "    points += 4\n",
    "else:\n",
    "    print(\"Oops, looks like your columns are not correct.\")\n",
    "points"
   ]
  },
  {
   "cell_type": "markdown",
   "metadata": {
    "deletable": false,
    "editable": false,
    "nbgrader": {
     "cell_type": "markdown",
     "checksum": "3042c50b76ce1f337d34ac6636bfa539",
     "grade": false,
     "grade_id": "cell-0464078afede4c35",
     "locked": true,
     "schema_version": 3,
     "solution": false,
     "task": false
    }
   },
   "source": [
    "![Colored Bar](colored-bar.png)"
   ]
  },
  {
   "cell_type": "markdown",
   "metadata": {
    "deletable": false,
    "editable": false,
    "nbgrader": {
     "cell_type": "markdown",
     "checksum": "f88570ddda381c3dd0d78d722ac02825",
     "grade": false,
     "grade_id": "cell-8b17df22de3c852d",
     "locked": true,
     "schema_version": 3,
     "solution": false,
     "task": false
    }
   },
   "source": [
    "## QUESTIONS\n",
    "\n",
    "In the markdown cell below, describe what was incorrect about the code above."
   ]
  },
  {
   "cell_type": "code",
   "execution_count": null,
   "metadata": {
    "deletable": false,
    "nbgrader": {
     "cell_type": "code",
     "checksum": "c80e6b0dceab17da05a40098533a0c79",
     "grade": true,
     "grade_id": "cell-dfc966b100f5f34e",
     "locked": false,
     "points": 4,
     "schema_version": 3,
     "solution": true,
     "task": false
    }
   },
   "outputs": [],
   "source": [
    "# YOUR CODE HERE\n",
    "raise NotImplementedError()"
   ]
  },
  {
   "cell_type": "markdown",
   "metadata": {
    "deletable": false,
    "editable": false,
    "nbgrader": {
     "cell_type": "markdown",
     "checksum": "a250fd5024bf15ff767bbffcf3c108fd",
     "grade": false,
     "grade_id": "cell-99793b07d790913f",
     "locked": true,
     "schema_version": 3,
     "solution": false,
     "task": false
    }
   },
   "source": [
    "![Colored Bar](colored-bar.png)"
   ]
  },
  {
   "cell_type": "markdown",
   "metadata": {
    "deletable": false,
    "editable": false,
    "nbgrader": {
     "cell_type": "markdown",
     "checksum": "5d72200bacf6df7d5c7c8160002fe858",
     "grade": false,
     "grade_id": "cell-913d617e48a9c932",
     "locked": true,
     "schema_version": 3,
     "solution": false,
     "task": false
    }
   },
   "source": [
    "## Questions:\n",
    "In the markdown cell below, answer the following questions.\n",
    "\n",
    "1. What `type()` of `Python` object is `soap_lidar_chm`? (2)\n",
    "Your answer should look like this but be the correct type for the object above: **string**\n",
    "2. Consider the original roads layer that you imported above to create the county_roads object in Python. What type of file and it's associated extensions(s) used to import the county_roads layer? \n",
    "\n",
    "**example answer: `text file`, `file.txt`** (2)\n",
    "\n",
    "NOTE: The SOAP object is not a text file! I just gave you examples so you could see what I was looking for here! "
   ]
  },
  {
   "cell_type": "markdown",
   "metadata": {
    "deletable": false,
    "nbgrader": {
     "cell_type": "markdown",
     "checksum": "b4b4c6acef552cb97edbd8eca6cf5bb9",
     "grade": true,
     "grade_id": "cell-7dcc6063cb1b105f",
     "locked": false,
     "points": 4,
     "schema_version": 3,
     "solution": true,
     "task": false
    }
   },
   "source": [
    "YOUR ANSWER HERE"
   ]
  },
  {
   "cell_type": "markdown",
   "metadata": {
    "deletable": false,
    "editable": false,
    "nbgrader": {
     "cell_type": "markdown",
     "checksum": "1c719a9ea264cb627605265b59632eba",
     "grade": false,
     "grade_id": "cell-52bf7736551d488b",
     "locked": true,
     "schema_version": 3,
     "solution": false,
     "task": false
    }
   },
   "source": [
    "![Colored Bar](colored-bar.png)"
   ]
  },
  {
   "cell_type": "markdown",
   "metadata": {
    "deletable": false,
    "editable": false,
    "nbgrader": {
     "cell_type": "markdown",
     "checksum": "c65c080770dec800d8966b0a17006626",
     "grade": false,
     "grade_id": "cell-5d615edb6134feba",
     "locked": true,
     "schema_version": 3,
     "solution": false,
     "task": false
    }
   },
   "source": [
    "## QUESTION\n",
    "\n",
    "1. What type of Python object is `county_roads`? (2)\n",
    "2. Consider the original roads layer that you imported above to create the county_roads object in Python. What type of file and it's associated extensions(s) used to import the county_roads layer? (2)\n",
    "3. What are the 3 file extensions required for a ShapeFile to be opened in Python (2)"
   ]
  },
  {
   "cell_type": "markdown",
   "metadata": {
    "deletable": false,
    "nbgrader": {
     "cell_type": "markdown",
     "checksum": "fa61ce763dc8f2c687fec5429fc32f34",
     "grade": true,
     "grade_id": "cell-4a060beb6fe0492a",
     "locked": false,
     "points": 6,
     "schema_version": 3,
     "solution": true,
     "task": false
    }
   },
   "source": [
    "YOUR ANSWER HERE"
   ]
  },
  {
   "cell_type": "markdown",
   "metadata": {
    "deletable": false,
    "editable": false,
    "nbgrader": {
     "cell_type": "markdown",
     "checksum": "429f93d3d4675bc159691ff3797b4136",
     "grade": false,
     "grade_id": "cell-642ed53c6c11cd9b",
     "locked": true,
     "schema_version": 3,
     "solution": false,
     "task": false
    }
   },
   "source": [
    "![Colored Bar](colored-bar.png)"
   ]
  },
  {
   "cell_type": "markdown",
   "metadata": {
    "deletable": false,
    "editable": false,
    "nbgrader": {
     "cell_type": "markdown",
     "checksum": "2fdd94d8d382222434d4f380b7fee7ec",
     "grade": false,
     "grade_id": "cell-85d370903b49f94c",
     "locked": true,
     "schema_version": 3,
     "solution": false,
     "task": false
    }
   },
   "source": [
    "## QUESTION\n",
    "\n",
    "1. What type of Python object is `soap_insitu_mean_max`? (2)\n",
    "2. Consider the original roads layer that you imported above to create the county_roads object in Python. What type of file and it's associated extensions(s) used to import the county_roads layer? (2)"
   ]
  },
  {
   "cell_type": "markdown",
   "metadata": {
    "deletable": false,
    "nbgrader": {
     "cell_type": "markdown",
     "checksum": "ed8d7cd044dfefae3843aa073cea3130",
     "grade": true,
     "grade_id": "cell-5c1090021708ea7d",
     "locked": false,
     "points": 4,
     "schema_version": 3,
     "solution": true,
     "task": false
    }
   },
   "source": [
    "YOUR ANSWER HERE"
   ]
  },
  {
   "cell_type": "markdown",
   "metadata": {
    "deletable": false,
    "editable": false,
    "nbgrader": {
     "cell_type": "markdown",
     "checksum": "b3f2f4d20d8464443ed1230c27d94b2d",
     "grade": false,
     "grade_id": "cell-e6b2ae1afbb096a5",
     "locked": true,
     "schema_version": 3,
     "solution": false,
     "task": false
    }
   },
   "source": [
    "![Colored Bar](colored-bar.png)"
   ]
  }
 ],
 "metadata": {
  "kernelspec": {
   "display_name": "Python 3",
   "language": "python",
   "name": "python3"
  },
  "language_info": {
   "codemirror_mode": {
    "name": "ipython",
    "version": 3
   },
   "file_extension": ".py",
   "mimetype": "text/x-python",
   "name": "python",
   "nbconvert_exporter": "python",
   "pygments_lexer": "ipython3",
   "version": "3.7.6"
  },
  "toc": {
   "base_numbering": 1,
   "nav_menu": {},
   "number_sections": true,
   "sideBar": true,
   "skip_h1_title": false,
   "title_cell": "Table of Contents",
   "title_sidebar": "Contents",
   "toc_cell": false,
   "toc_position": {},
   "toc_section_display": true,
   "toc_window_display": true
  },
  "varInspector": {
   "cols": {
    "lenName": 16,
    "lenType": 16,
    "lenVar": 40
   },
   "kernels_config": {
    "python": {
     "delete_cmd_postfix": "",
     "delete_cmd_prefix": "del ",
     "library": "var_list.py",
     "varRefreshCmd": "print(var_dic_list())"
    },
    "r": {
     "delete_cmd_postfix": ") ",
     "delete_cmd_prefix": "rm(",
     "library": "var_list.r",
     "varRefreshCmd": "cat(var_dic_list()) "
    }
   },
   "types_to_exclude": [
    "module",
    "function",
    "builtin_function_or_method",
    "instance",
    "_Feature"
   ],
   "window_display": false
  }
 },
 "nbformat": 4,
 "nbformat_minor": 2
}
